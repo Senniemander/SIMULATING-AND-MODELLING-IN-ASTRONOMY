{
 "cells": [
  {
   "cell_type": "code",
   "execution_count": 1,
   "id": "8c5216ba-5e12-4b06-987a-71aa38be7dc1",
   "metadata": {},
   "outputs": [
    {
     "name": "stderr",
     "output_type": "stream",
     "text": [
      "/Users/boydvanderplaat/miniforge3/envs/Amuse-env/lib/python3.12/site-packages/amuse/support/options.py:11: UserWarning: pkg_resources is deprecated as an API. See https://setuptools.pypa.io/en/latest/pkg_resources.html. The pkg_resources package is slated for removal as early as 2025-11-30. Refrain from using this package or pin to Setuptools<81.\n",
      "  import pkg_resources\n"
     ]
    }
   ],
   "source": [
    "from amuse.lab import *"
   ]
  },
  {
   "cell_type": "code",
   "execution_count": 2,
   "id": "8351f706-93ba-443b-ad73-917ac69d7ed1",
   "metadata": {},
   "outputs": [],
   "source": [
    "from amuse.community.phantom.interface import Phantom"
   ]
  },
  {
   "cell_type": "code",
   "execution_count": 3,
   "id": "c7ea790e-0416-480a-aefe-51f3509b2cbb",
   "metadata": {},
   "outputs": [],
   "source": [
    "import numpy as np\n",
    "import matplotlib.pyplot as plt\n",
    "from matplotlib.animation import FuncAnimation"
   ]
  },
  {
   "cell_type": "code",
   "execution_count": 10,
   "id": "6dd2b5c7-644e-44df-8b21-7a9d8db5e702",
   "metadata": {},
   "outputs": [],
   "source": [
    "# running a smoothed particle hydrodynamics simulation\n",
    "mass   = 1.0 | units.Msun\n",
    "radius = 1.0 | units.parsec # defining the mass and size of my system\n",
    "converter = nbody_system.nbody_to_si(mass, radius)\n",
    "\n",
    "number_of_particles = 1000\n",
    "end_time            = 10 | units.Myr\n",
    "dt                  = 0.5 | units.Myr\n",
    "\n",
    "gas = new_plummer_gas_model(number_of_particles, convert_nbody=converter) # a gas distribution using a kind of spherical density profile\n",
    "# with n gas particles\n",
    "gas.hydro_radius = 0.01 | units.parsec # this tells the system how far to look for neighbours when calculating pressure etc\n",
    "\n",
    "phantom = Phantom(converter)\n",
    "phantom.particles.add_particles(gas)\n",
    "\n",
    "# plotting the particles in an animation \n",
    "frames = []\n",
    "times  = []\n",
    "\n",
    "time = 0.0 | units.Myr\n",
    "while time <= end_time:\n",
    "    phantom.evolve_model(time)\n",
    "    position = phantom.particles.position.value_in(units.parsec)\n",
    "    frames.append(position)\n",
    "    times.append(time.value_in(units.Myr))\n",
    "    time += dt\n",
    "\n",
    "phantom.stop()"
   ]
  },
  {
   "cell_type": "code",
   "execution_count": 11,
   "id": "d37a92fb-1e01-4b67-84ee-cdcbe3c80a36",
   "metadata": {
    "scrolled": true
   },
   "outputs": [
    {
     "data": {
      "image/png": "[encoded data removed]",
      "text/plain": [
       "<Figure size 700x700 with 1 Axes>"
      ]
     },
     "metadata": {},
     "output_type": "display_data"
    }
   ],
   "source": [
    "import numpy as np\n",
    "import matplotlib.pyplot as plt\n",
    "from matplotlib.animation import FuncAnimation\n",
    "\n",
    "# Ensure frames and times are numpy arrays\n",
    "frames_np = np.array(frames)   # (num_frames, num_particles, 3)\n",
    "times_np = np.array(times)     # (num_frames,)\n",
    "\n",
    "num_frames, num_particles, _ = frames_np.shape\n",
    "\n",
    "fig, ax = plt.subplots(figsize=(7,7))\n",
    "scat = ax.scatter([], [], s=10, color='blue')\n",
    "\n",
    "# Set axis limits wider than your data range\n",
    "ax.set_ylim(-2, 2)\n",
    "ax.set_xlabel('x [pc]')\n",
    "ax.set_ylabel('y [pc]')\n",
    "title = ax.set_title('Time: 0.00 Myr')\n",
    "\n",
    "def init():\n",
    "    scat.set_offsets(frames_np[0][:, :2])\n",
    "    title.set_text(f\"Time: {times_np[0]:.3f} Myr\")\n",
    "    return scat, title\n",
    "\n",
    "def update(frame_num):\n",
    "    pos = frames_np[frame_num]\n",
    "    xy = pos[:, :2]\n",
    "    scat.set_offsets(xy)\n",
    "    title.set_text(f\"Time: {times_np[frame_num]:.3f} Myr\")\n",
    "    return scat, title\n",
    "\n",
    "anim = FuncAnimation(\n",
    "    fig, update, frames=num_frames, init_func=init,\n",
    "    interval=100, blit=False\n",
    ")\n",
    "anim.save(\"animation.mp4\", writer=\"ffmpeg\")\n",
    "plt.show()\n",
    "\n"
   ]
  },
  {
   "cell_type": "code",
   "execution_count": 6,
   "id": "1a9214fd-df14-4c1f-b542-fadbfbb25163",
   "metadata": {},
   "outputs": [
    {
     "name": "stdout",
     "output_type": "stream",
     "text": [
      "Frames shape: (20, 1000, 3)\n",
      "Sample positions (first frame, first 5 particles):\n",
      "[[ 0.18482097 -0.50779491]\n",
      " [ 0.36147186  0.79373811]\n",
      " [ 0.50019984 -0.4528416 ]\n",
      " [-0.58002487 -0.10142111]\n",
      " [ 0.09047288 -0.24519037]]\n",
      "X min/max: -8.03356979264 7.40485144792\n",
      "Y min/max: -7.01711020111 6.47215603351\n"
     ]
    }
   ],
   "source": [
    "print(\"Frames shape:\", frames_np.shape)\n",
    "print(\"Sample positions (first frame, first 5 particles):\")\n",
    "print(frames_np[0][:5, :2])\n",
    "print(\"X min/max:\", frames_np[:,:,0].min(), frames_np[:,:,0].max())\n",
    "print(\"Y min/max:\", frames_np[:,:,1].min(), frames_np[:,:,1].max())"
   ]
  },
  {
   "cell_type": "code",
   "execution_count": null,
   "id": "6b2f2460-c9f4-4a0b-b03c-8405fd48f099",
   "metadata": {},
   "outputs": [],
   "source": []
  },
  {
   "cell_type": "code",
   "execution_count": null,
   "id": "a6e6fcf1-ef12-447a-bb8e-4839eb3cd83a",
   "metadata": {},
   "outputs": [],
   "source": []
  }
 ],
 "metadata": {
  "kernelspec": {
   "display_name": "Python 3 (ipykernel)",
   "language": "python",
   "name": "python3"
  },
  "language_info": {
   "codemirror_mode": {
    "name": "ipython",
    "version": 3
   },
   "file_extension": ".py",
   "mimetype": "text/x-python",
   "name": "python",
   "nbconvert_exporter": "python",
   "pygments_lexer": "ipython3",
   "version": "3.12.5"
  }
 },
 "nbformat": 4,
 "nbformat_minor": 5
}
