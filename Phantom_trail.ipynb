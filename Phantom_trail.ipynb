from amuse.lab import *
from amuse.community.phantom.interface import Phantom
import numpy as np
import matplotlib.pyplot as plt
from matplotlib.animation import FuncAnimation

# running a smoothed particle hydrodynamics simulation
mass   = 1.0 | units.Msun
radius = 1.0 | units.parsec # defining the mass and size of my system
converter = nbody_system.nbody_to_si(mass, radius)

number_of_particles = 1000
end_time            = 10 | units.Myr
dt                  = 0.5 | units.Myr

gas = new_plummer_gas_model(number_of_particles, convert_nbody=converter) # a gas distribution using a kind of spherical density profile
# with n gas particles
gas.hydro_radius = 0.01 | units.parsec # this tells the system how far to look for neighbours when calculating pressure etc

phantom = Phantom(converter)
phantom.particles.add_particles(gas)

# plotting the particles in an animation 
frames = []
times  = []

time = 0.0 | units.Myr
while time <= end_time:
    phantom.evolve_model(time)
    position = phantom.particles.position.value_in(units.parsec)
    frames.append(position)
    times.append(time.value_in(units.Myr))
    time += dt

phantom.stop()

# Ensure frames and times are numpy arrays
frames_np = np.array(frames)   # (num_frames, num_particles, 3)
times_np = np.array(times)     # (num_frames,)

num_frames, num_particles, _ = frames_np.shape

fig, ax = plt.subplots(figsize=(7,7))
scat = ax.scatter([], [], s=10, color='blue')

# Set axis limits wider than your data range
ax.set_ylim(-2, 2)
ax.set_xlabel('x [pc]')
ax.set_ylabel('y [pc]')
title = ax.set_title('Time: 0.00 Myr')

def init():
    scat.set_offsets(frames_np[0][:, :2])
    title.set_text(f"Time: {times_np[0]:.3f} Myr")
    return scat, title

def update(frame_num):
    pos = frames_np[frame_num]
    xy = pos[:, :2]
    scat.set_offsets(xy)
    title.set_text(f"Time: {times_np[frame_num]:.3f} Myr")
    return scat, title

anim = FuncAnimation(
    fig, update, frames=num_frames, init_func=init,
    interval=100, blit=False
)
anim.save("animation.mp4", writer="ffmpeg")
